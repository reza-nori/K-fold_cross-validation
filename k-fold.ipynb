import pandas as pd
import numpy as np
from sklearn.datasets import load_iris
from sklearn.model_selection import cross_val_score,KFold
from sklearn.svm import SVC
iris=load_iris()
x=iris.data
y=iris.target
model2=SVC(random_state=1)
model2.fit(x,y)
kf=KFold(n_splits=10)
score2=cross_val_score(model2,x,y,cv=kf)
avg2=score2.mean()
print("svm scores for each time:",score2)
print("svm average of score:",avg2)
